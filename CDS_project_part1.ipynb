{
  "cells": [
    {
      "cell_type": "markdown",
      "metadata": {
        "id": "sd6iFKF2gohh"
      },
      "source": [
        "# **CDS Project: Part 1**\n",
        "\n",
        "*Institute of Software Security (E22)*  \n",
        "*Hamburg University of Technology*  \n",
        "*SoSe 2023*\n",
        "\n",
        "## Learning objectives\n",
        "---\n",
        "\n",
        "- Use a basic Machine Learning (ML) pipeline with pre-trained models.\n",
        "- Build your own data loader.\n",
        "- Load and run a pre-trained ML model.\n",
        "- Evaluate the performance of an ML model.\n",
        "- Calculate and interpret performance metrics.\n",
        "\n",
        "## Materials\n",
        "---\n",
        "\n",
        "- Lecture Slides 1, 2, and 3.\n",
        "- PyTorch Documentation: [Datasets and Data Loaders](https://pytorch.org/tutorials/beginner/basics/data_tutorial.html) \n"
      ]
    },
    {
      "cell_type": "markdown",
      "metadata": {
        "id": "ybWt0W4gjbiC"
      },
      "source": [
        "## Project Description\n",
        "---\n",
        "\n",
        "In this project, you are given an ML model that is pre-trained on a vulnerability dataset. The dataset consists of code samples labeled with True or False flags, depending on the presence and absense of a vulnerability. Your goal is to use the pre-trained model to predict if the code samples in the validation set contain vulnerabilities or not and analyse the results. Please proceed to the below tasks. "
      ]
    },
    {
      "cell_type": "markdown",
      "metadata": {},
      "source": [
        "### Notes\n",
        "PyTorch provides two data primitives: torch.utils.data.DataLoader and torch.utils.data.Dataset that allow you to use pre-loaded datasets as well as your own data. Dataset stores the samples and their corresponding labels, and DataLoader wraps an iterable around the Dataset to enable easy access to the samples."
      ]
    },
    {
      "cell_type": "markdown",
      "metadata": {
        "id": "IrciLvqNj96k"
      },
      "source": [
        "###*Task 1*\n",
        "\n",
        "Build a data loader for the validation dataset present in the following path: \"*data_students/student_dataset.hdf5*\". You will be using this dataset to validate the performance of the ML model. The dataset is in HDF5 binary data format. This format is used to store large amount of data. Make sure that you import and familiarise yourself with the right Python libraries to handle HDF5 files. \n"
      ]
    },
    {
      "cell_type": "code",
      "execution_count": 3,
      "metadata": {
        "id": "Eem6AZNyyXsn"
      },
      "outputs": [],
      "source": [
        "# TODO: import the necessary libraries to load the data from the specified path.\n",
        "import torch\n",
        "from torch.utils.data import Dataset, DataLoader\n",
        "from torchvision import datasets\n",
        "from torchvision.transforms import ToTensor\n",
        "import matplotlib.pyplot as plt\n",
        "import h5py\n",
        "import numpy as np\n",
        "import os\n",
        "import random\n",
        "import pandas as pd"
      ]
    },
    {
      "cell_type": "code",
      "execution_count": 4,
      "metadata": {},
      "outputs": [
        {
          "name": "stdout",
          "output_type": "stream",
          "text": []
        }
      ],
      "source": [
        "BASE_PATH = os.getcwd()\n",
        "filename = os.path.join(BASE_PATH,\"data_students\", \"student_dataset.hdf5\" )\n",
        "\n",
        "\n",
        "with h5py.File(filename, \"r\") as f:\n",
        "    print(\"Keys: %s\" % f.keys())\n",
        "    "
      ]
    },
    {
      "cell_type": "code",
      "execution_count": null,
      "metadata": {},
      "outputs": [],
      "source": [
        "class HDF5CodeDataset(Dataset):\n",
        "    def __init__(self, file_path):\n",
        "        self.file_path = file_path\n",
        "        self.h5_file = h5py.File(file_path, 'r')\n",
        "        self.samples = self.h5_file['vectors']      \n",
        "        self.labels = self.h5_file['labels']         \n",
        "\n",
        "    def __len__(self):\n",
        "        return len(self.labels)\n",
        "\n",
        "    def __getitem__(self, idx):\n",
        "        sample = self.samples[idx]\n",
        "        label = self.labels[idx]\n",
        "        return sample, label\n",
        "\n",
        "    def close(self):\n",
        "        self.h5_file.close()\n",
        "\n",
        "#Load the dataset and build a DataLoader\n",
        "def get_validation_loader(hdf5_path, batch_size=32):\n",
        "    dataset = HDF5CodeDataset(hdf5_path)\n",
        "    loader = DataLoader(dataset, batch_size=batch_size, shuffle=False)\n",
        "    return loader, dataset\n"
      ]
    },
    {
      "cell_type": "code",
      "execution_count": null,
      "metadata": {},
      "outputs": [
        {
          "name": "stdout",
          "output_type": "stream",
          "text": [
            "Batch Vectors Shape: torch.Size([32, 1, 768])\n",
            "Batch Labels: tensor([False, False,  True,  True, False, False,  True, False, False, False,\n",
            "        False, False, False, False,  True,  True, False,  True, False,  True,\n",
            "        False, False, False, False, False, False, False, False,  True, False,\n",
            "         True, False])\n",
            "(array([[ 1.03547001e+00, -2.19101101e-01, -9.18475091e-01,\n",
            "         1.74084693e-01,  3.97932082e-01, -2.96749353e-01,\n",
            "         1.05609491e-01, -1.51622081e+00,  9.08545077e-01,\n",
            "         2.22681236e+00, -3.17959100e-01,  7.20114648e-01,\n",
            "         1.21622455e+00,  7.95506537e-01,  3.67359757e-01,\n",
            "        -2.04543328e+00, -1.75873160e+00,  1.21686578e+00,\n",
            "         5.05620539e-01, -4.81491238e-01,  9.69734862e-02,\n",
            "        -3.43340904e-01, -3.18177231e-02, -6.40490651e-01,\n",
            "         2.21731019e+00,  1.18113399e+00, -4.24810886e-01,\n",
            "        -1.07952014e-01,  3.33056033e-01,  1.04620941e-01,\n",
            "         2.20718455e+00, -1.18341935e+00,  5.23902714e-01,\n",
            "        -2.19629502e+00,  3.17754984e-01,  5.38914740e-01,\n",
            "        -9.66874540e-01, -8.19174230e-01, -4.71874714e-01,\n",
            "        -1.99626422e+00, -1.17283836e-01,  1.67227507e-01,\n",
            "         7.99059451e-01,  8.41938913e-01,  1.34052598e+00,\n",
            "         5.74320078e-01,  2.59597413e-02, -4.86233652e-01,\n",
            "        -3.18045653e-02, -1.08051646e+00, -1.53497076e+00,\n",
            "        -3.46184105e-01,  2.84184664e-01, -1.13687313e+00,\n",
            "         1.55661631e+00, -4.80953902e-01, -1.91739130e+00,\n",
            "        -9.90142107e-01,  4.18981171e+00, -1.21937215e+00,\n",
            "         1.18609108e-01,  1.86813140e+00,  2.63729304e-01,\n",
            "        -1.07520950e+00, -9.01649833e-01, -1.50997961e+00,\n",
            "         1.00727595e-01,  2.06378147e-01, -8.79122555e-01,\n",
            "        -9.36285675e-01,  2.32793093e+00, -2.48891330e+00,\n",
            "         3.28004301e-01,  4.25403088e-01,  1.11608076e+00,\n",
            "         1.46103933e-01,  3.14908355e-01,  1.66819537e+00,\n",
            "        -2.32730579e+00,  1.05275846e+00,  1.51043743e-01,\n",
            "        -1.34833002e+00, -1.86786199e+00, -7.60879457e-01,\n",
            "         2.67419648e+00, -1.36227632e+00,  5.28749228e-01,\n",
            "         7.19087064e-01,  1.16455577e-01,  2.72238779e+00,\n",
            "        -5.37003398e-01, -3.11262775e-02,  8.87048244e-01,\n",
            "         1.88986212e-01, -4.29920167e-01,  9.49398637e-01,\n",
            "         1.95349383e+00,  1.51089668e+00,  6.22098863e-01,\n",
            "        -1.42139092e-01, -1.35238481e+00, -9.26823437e-01,\n",
            "        -1.00422096e+00,  2.18128562e+00, -2.16660321e-01,\n",
            "        -2.98234284e-01,  1.62819421e+00,  2.67182231e-01,\n",
            "         7.47275114e-01,  4.00839090e-01, -8.61543953e-01,\n",
            "        -3.27217221e+00,  2.51444864e+00,  1.62112224e+00,\n",
            "        -1.77967876e-01, -1.78193882e-01, -1.14987123e+00,\n",
            "        -1.06094110e+00,  1.48843658e+00,  2.68150955e-01,\n",
            "         4.48890001e-01,  7.45274425e-01, -4.90177274e-01,\n",
            "        -3.50081801e-01,  1.06037843e+00,  6.97745979e-01,\n",
            "         7.14287996e-01,  1.80015540e+00,  4.54091758e-01,\n",
            "        -1.09107256e+00, -3.22711498e-01,  1.30533248e-01,\n",
            "        -9.25285742e-02,  8.17471862e-01,  6.32683218e-01,\n",
            "        -5.14261305e-01,  2.58730507e+00,  6.35642171e-01,\n",
            "         2.31835747e+00,  2.38069519e-01,  6.86468363e-01,\n",
            "         7.95159876e-01,  1.21315920e+00,  1.27297902e+00,\n",
            "         1.21415341e+00,  1.98284578e+00, -6.21703386e-01,\n",
            "         7.18573630e-01,  1.64509487e+00,  2.10264280e-01,\n",
            "         1.27410746e+00,  8.97546411e-01,  2.14598417e+00,\n",
            "        -1.21063185e+00,  1.41799402e+00,  2.92176045e-02,\n",
            "        -1.00266409e+00, -9.43030238e-01,  9.56014931e-01,\n",
            "         3.59451771e+00,  3.99722248e-01, -8.09965551e-01,\n",
            "        -3.10216808e+00, -3.08688164e+00,  5.79896092e-01,\n",
            "         1.50241107e-01,  2.15085939e-01,  7.85629004e-02,\n",
            "        -7.92088509e-01,  4.78325319e+00, -1.85483113e-01,\n",
            "        -6.56046033e-01, -1.35490811e+00,  2.89682120e-01,\n",
            "        -1.77145135e+00,  2.59088278e+00,  9.81756866e-01,\n",
            "        -9.21021223e-01,  5.32552898e-02, -9.73232090e-01,\n",
            "        -2.98830867e-01,  8.07400107e-01, -2.90340352e+00,\n",
            "         1.64949048e+00,  1.80071521e+00,  9.61272299e-01,\n",
            "        -1.16415322e-01,  5.24311185e-01,  2.13051605e+00,\n",
            "         2.73946357e+00,  1.80652529e-01, -1.54320824e+00,\n",
            "        -2.55673558e-01, -1.84402514e+00,  4.68216240e-01,\n",
            "        -5.99295497e-01, -9.88823116e-01,  4.19242203e-01,\n",
            "         1.03859138e+00,  7.27091432e-01, -1.49360672e-01,\n",
            "        -6.04029953e-01,  5.70500731e-01,  2.23151064e+00,\n",
            "         2.56399333e-01, -9.24663961e-01,  9.22722280e-01,\n",
            "        -6.18458927e-01, -9.22092497e-01,  8.96955729e-01,\n",
            "         5.26629984e-01,  1.24910462e+00,  3.34868789e+00,\n",
            "         8.48535359e-01, -5.58989346e-01,  1.39974236e+00,\n",
            "        -6.71492040e-01, -6.87615275e-01, -2.25195721e-01,\n",
            "        -1.71332133e+00,  4.20177042e-01, -2.91627789e+00,\n",
            "         4.39101607e-01, -1.08337080e+00, -1.99270689e+00,\n",
            "        -1.35594606e+00,  1.35687268e+00,  4.59732622e-01,\n",
            "         3.93069029e-01,  1.91997313e+00, -5.50659180e-01,\n",
            "        -1.16251075e+00, -5.29255569e-01, -2.38411331e+00,\n",
            "        -4.52103734e-01,  9.88978326e-01,  4.27012533e-01,\n",
            "         3.19349021e-01, -4.90835160e-01, -9.35714364e-01,\n",
            "         7.55462229e-01,  1.95827234e+00, -4.31321830e-01,\n",
            "        -4.18036044e-01, -1.12226522e+00,  1.73303759e+00,\n",
            "         1.73665988e+00,  6.36239111e-01,  4.71425581e+00,\n",
            "        -1.04665029e+00, -2.06572294e-01,  9.80241358e-01,\n",
            "        -4.34775025e-01,  1.43737167e-01,  5.09667575e-01,\n",
            "         3.83472770e-01, -2.91952938e-01, -1.87336469e+00,\n",
            "         1.13007975e+00,  5.90447485e-01, -1.26752591e+00,\n",
            "        -5.92742525e-02, -1.25772345e+00, -2.25439146e-01,\n",
            "        -2.10371166e-01, -1.38080680e+00,  2.44898096e-01,\n",
            "         1.24099918e-01,  8.26434314e-01, -2.50812937e-02,\n",
            "        -7.33863786e-02,  4.91206646e-01,  3.21385652e-01,\n",
            "         3.64670992e-01,  9.71445858e-01, -1.69831619e-01,\n",
            "         9.55530107e-01, -5.38515627e-01, -2.13508829e-01,\n",
            "        -2.11407483e-01,  5.93558967e-01,  1.76076755e-01,\n",
            "         4.88323539e-01, -6.40320301e-01,  3.44163060e-01,\n",
            "         1.64910287e-01,  1.21090913e+00,  4.54124659e-01,\n",
            "         3.02529871e-01, -1.73347914e+00,  1.18100238e+00,\n",
            "        -8.82989824e-01, -8.23594928e-01,  1.09225595e+00,\n",
            "         6.93241656e-01,  2.16231108e+00, -1.81360078e+00,\n",
            "        -8.48988831e-01, -1.04673088e+00,  1.75445759e+00,\n",
            "        -1.10012376e+00, -1.82839799e+00, -1.27347636e+00,\n",
            "         1.87388194e+00,  7.85306871e-01, -1.15614820e+00,\n",
            "         5.69303572e-01,  8.65293503e-01,  1.28785408e+00,\n",
            "         4.02969599e-01, -1.03432715e+00, -2.13481808e+00,\n",
            "         1.20179570e+00,  2.73241711e+00,  1.52817369e+00,\n",
            "         1.78214228e+00, -1.01720715e+00,  1.57198131e+00,\n",
            "         2.04806849e-02, -2.99459267e+00, -2.62228698e-01,\n",
            "        -1.34475648e+00, -1.08582473e+00, -2.63363600e-01,\n",
            "         1.48062086e+00,  1.28835285e+00,  3.31693292e+00,\n",
            "         1.23338139e+00,  1.54476571e+00, -2.23661661e+00,\n",
            "        -2.13404131e+00, -1.48393035e+00, -1.58529937e-01,\n",
            "         1.41104174e+00,  1.18322456e+00, -2.49467015e-01,\n",
            "        -1.06870413e+00, -9.09843326e-01,  1.68406653e+00,\n",
            "        -1.51379108e+00, -1.27575481e+00,  5.46941087e-02,\n",
            "        -1.40948653e+00,  5.36040187e-01,  1.26990914e+00,\n",
            "        -4.62721527e-01, -1.51144183e+00, -5.10441720e-01,\n",
            "        -6.18446887e-01, -2.00936452e-01,  1.58355206e-01,\n",
            "        -1.08497715e+00,  1.24084747e+00, -8.05859447e-01,\n",
            "        -8.15057933e-01,  4.30736005e-01, -3.25821489e-01,\n",
            "        -1.34248328e+00,  4.25950766e-01,  2.98109031e+00,\n",
            "         1.32343337e-01,  8.28337371e-01, -4.45770591e-01,\n",
            "        -1.91282976e+00,  2.61049420e-01, -2.36248350e+00,\n",
            "         2.33761296e-01,  8.48356187e-01,  1.32131171e+00,\n",
            "        -1.40927100e+00, -1.02256119e-01,  1.04388905e+00,\n",
            "        -1.77752748e-01,  3.94941688e-01, -1.79815900e+00,\n",
            "         8.01793993e-01,  6.15363181e-01, -8.99526417e-01,\n",
            "        -2.38172367e-01,  6.55362308e-01, -5.46933971e-02,\n",
            "        -2.29994804e-01,  6.09198332e-01,  3.64115834e-01,\n",
            "        -2.46166110e-01, -4.06426668e-01,  1.33881712e+00,\n",
            "        -1.11424565e+00,  2.39545679e+00,  1.52111459e+00,\n",
            "        -3.17591906e-01, -5.57885952e-02,  8.27847362e-01,\n",
            "         5.39232373e-01, -1.85829759e-01,  6.21986836e-02,\n",
            "        -4.50929813e-02,  1.01305783e+00,  9.01353478e-01,\n",
            "         1.31673992e+00,  1.44098282e-01,  2.07028079e+00,\n",
            "        -1.17883515e+00,  1.02695382e+00, -2.01942828e-02,\n",
            "         5.98119199e-01,  4.12681818e-01,  5.34882471e-02,\n",
            "         1.73258424e+00, -1.52054799e+00,  6.03223406e-03,\n",
            "         8.23880076e-01,  1.97845089e+00, -1.01097453e+00,\n",
            "         1.92449793e-01, -1.06930399e+00,  7.54127204e-01,\n",
            "        -1.10135913e+00, -1.33837950e+00, -2.25204182e+00,\n",
            "        -1.14516847e-01, -1.25830805e+00,  5.85686147e-01,\n",
            "        -8.87859046e-01,  8.30445170e-01, -5.72933912e-01,\n",
            "        -1.37674749e+00, -1.70967650e+00, -6.90409616e-02,\n",
            "         3.18065429e+00,  1.28161788e+00, -7.95200765e-01,\n",
            "         3.55386019e-01,  1.94820032e-01,  1.78429914e+00,\n",
            "        -2.11669803e+00,  1.65450680e+00,  2.02074099e+00,\n",
            "         1.11377740e+00, -8.75023544e-01,  4.07666475e-01,\n",
            "        -1.94335639e+00,  3.78157616e-01, -3.76375765e-01,\n",
            "        -7.55350590e-01, -1.20810425e+00, -1.56830001e+00,\n",
            "         3.64597172e-01, -2.28126109e-01, -3.14172775e-01,\n",
            "         8.03888083e-01, -2.03237700e+00, -4.01866347e-01,\n",
            "        -2.28252277e-01,  1.87006354e-01, -4.27725077e-01,\n",
            "        -8.31504285e-01,  4.92035866e-01, -3.39082778e-01,\n",
            "        -3.71788979e-01,  5.74681044e-01, -1.96021521e+00,\n",
            "         3.64970446e-01,  3.62238377e-01,  1.87284887e+00,\n",
            "         8.00875425e-01, -1.44499254e+00, -5.48430204e-01,\n",
            "        -2.79530764e-01,  2.01870036e+00,  5.32168210e-01,\n",
            "         1.16954170e-01,  1.46478593e-01,  4.92252022e-01,\n",
            "         5.37726820e-01, -1.08207810e+00, -1.86592770e+00,\n",
            "        -5.70144892e-01, -2.35921502e+00, -1.11687911e+00,\n",
            "        -1.83842033e-01,  3.00665021e-01, -1.30192387e+00,\n",
            "         1.11895871e+00, -1.91504347e+00,  1.39989722e+00,\n",
            "         5.00506639e-01, -4.57050018e-02, -3.29058027e+00,\n",
            "         6.59982443e-01, -1.65222641e-02, -1.44484186e+00,\n",
            "        -9.20561731e-01, -1.24811828e+00, -1.27335119e+00,\n",
            "        -1.73512685e+00, -3.88589025e-01,  6.12245023e-01,\n",
            "        -1.46146679e+00, -7.52977848e-01,  6.66502655e-01,\n",
            "        -1.58127022e+00, -8.86595726e-01, -3.85322750e-01,\n",
            "         4.14732605e-01, -3.98518413e-01,  4.19815958e-01,\n",
            "        -1.06549287e+00, -1.34034288e+00, -4.99995291e-01,\n",
            "         2.30318949e-01, -7.30462372e-01, -8.98343563e-01,\n",
            "         2.16067396e-02,  3.88515711e-01, -1.16327517e-01,\n",
            "         4.77982670e-01,  1.32634449e+00,  1.68870986e+00,\n",
            "        -7.69609958e-02,  5.05554438e-01,  4.08782154e-01,\n",
            "        -1.96755636e+00, -2.58867353e-01,  3.50507736e+00,\n",
            "        -3.66591483e-01,  5.47065020e-01,  7.71093726e-01,\n",
            "         8.04383457e-01, -1.88994944e-01, -7.20046568e+00,\n",
            "         8.39907765e-01,  1.84677958e+00,  8.81695688e-01,\n",
            "        -3.12121034e-01,  5.13682365e-01,  1.98193800e+00,\n",
            "        -2.04524469e+00,  1.73814619e+00,  3.58569413e-01,\n",
            "        -9.00465608e-01, -5.86525917e-01,  1.19383657e+00,\n",
            "        -6.49115145e-01,  5.37840068e-01, -5.18065155e-01,\n",
            "         2.01826429e+00, -3.36585402e+00,  9.09896493e-01,\n",
            "         1.16718113e+00, -3.51903409e-01,  1.52163684e+00,\n",
            "        -8.14638793e-01,  2.40968391e-01, -1.44477069e+00,\n",
            "        -5.82172990e-01, -2.71623063e+00,  2.11097032e-01,\n",
            "        -2.03407422e-01,  6.53334439e-01, -9.97865021e-01,\n",
            "         8.18662107e-01,  1.04249322e+00, -1.78249806e-01,\n",
            "         1.29524910e+00,  8.43190014e-01,  3.52252692e-01,\n",
            "         7.54650891e-01, -1.66504240e+00, -8.54297876e-02,\n",
            "         6.62014902e-01,  5.46655536e-01, -2.48804256e-01,\n",
            "        -3.49561810e-01,  9.14161682e-01, -1.99752748e+00,\n",
            "         5.28304935e-01,  2.70547926e-01,  3.68813455e-01,\n",
            "         7.22089887e-01,  5.10661304e-01, -3.37366223e-01,\n",
            "         1.58361480e-01,  1.20765972e+00, -3.47016275e-01,\n",
            "         6.87825620e-01,  9.89230633e-01,  1.33738685e+00,\n",
            "         9.43379402e-01,  1.53105891e+00, -8.36182833e-01,\n",
            "         3.18026304e+00, -4.02221888e-01,  2.89341629e-01,\n",
            "        -5.21596432e-01,  3.49343330e-01,  9.67286706e-01,\n",
            "        -1.54633486e+00, -1.27010262e+00,  1.08047223e+00,\n",
            "         5.83331764e-01,  1.99944758e+00,  1.06152916e+00,\n",
            "         6.92179441e-01,  1.51023781e+00,  5.11231720e-01,\n",
            "        -7.20554948e-01, -3.44608337e-01,  7.80715466e-01,\n",
            "         1.32922101e+00,  2.35001788e-01, -5.04445374e-01,\n",
            "         2.05259919e+00, -1.72036886e+00,  1.21069098e+00,\n",
            "         1.89446092e+00, -2.28499323e-01,  7.28875041e-01,\n",
            "        -5.55568635e-01,  1.25097406e+00,  4.12052631e-01,\n",
            "        -1.60960639e+00, -1.82614911e+00, -1.86435318e+00,\n",
            "         1.63915455e+00, -1.66030660e-01, -8.58431458e-01,\n",
            "        -9.60496485e-01,  1.18363130e+00,  1.02203381e+00,\n",
            "        -8.06498587e-01,  1.45141006e+00,  3.68157536e-01,\n",
            "        -3.32513452e-01, -8.84168744e-01, -1.33597505e+00,\n",
            "         1.46894678e-01, -1.12509203e+00,  5.75805604e-01,\n",
            "        -5.38017094e-01,  1.11137629e+00, -1.06472147e+00,\n",
            "         2.84340441e-01,  4.27673459e-01,  1.02527034e+00,\n",
            "        -1.26236463e+00,  1.24675941e+00, -8.40491382e-04,\n",
            "         1.18311596e+00, -1.17876530e+00, -2.24048686e+00,\n",
            "         1.18867564e+00,  1.90946966e-01, -1.54563630e+00,\n",
            "        -8.50081921e-01, -4.40726459e-01, -1.17663598e+00,\n",
            "         5.18231690e-01,  1.17400932e+00,  1.28982663e+00,\n",
            "         5.70435882e-01, -8.04912925e-01, -2.25663638e+00,\n",
            "         2.70795774e+00, -2.43122339e-01,  1.03273344e+00,\n",
            "        -3.28207612e-01, -3.94801438e-01,  8.40033233e-01,\n",
            "        -1.25328958e-01, -9.84207317e-02, -2.85587966e-01,\n",
            "        -1.36875534e+00, -9.75138187e-01, -6.76292598e-01,\n",
            "        -1.43045902e+00,  1.16398983e-01,  1.19376326e+00,\n",
            "         4.03609455e-01,  1.84501231e+00, -1.40813196e+00,\n",
            "         9.63430703e-01,  1.68250942e+00, -9.19306576e-01,\n",
            "        -4.30079997e-01, -2.57482618e-01, -3.60642195e-01,\n",
            "         1.33132446e+00, -1.90986678e-01,  8.38146985e-01,\n",
            "        -1.92198527e+00, -4.72825795e-01,  1.15314877e+00,\n",
            "        -2.00904441e+00, -6.27333045e-01, -1.27833760e+00,\n",
            "        -2.49144986e-01,  8.72113928e-02, -7.98839033e-01,\n",
            "         1.05154300e+00, -1.22251838e-01, -6.49518818e-02,\n",
            "        -1.08622658e+00,  1.99407920e-01, -1.09444869e+00,\n",
            "         1.09528661e-01,  8.42223704e-01, -3.58191156e-03,\n",
            "        -1.35630574e-02, -2.36154452e-01,  2.75798529e-01,\n",
            "        -2.06438214e-01, -7.27857709e-01,  3.15189153e-01,\n",
            "        -1.51371408e+00, -9.32203948e-01, -4.31607515e-01,\n",
            "         3.66938400e+00,  4.32821922e-02,  6.04901075e-01,\n",
            "        -2.17915559e+00,  6.69683039e-01, -5.46204209e-01,\n",
            "         5.45121357e-02, -1.84115863e+00, -7.21982777e-01,\n",
            "         1.28680527e+00,  6.71057403e-01, -2.04479051e+00,\n",
            "        -1.04064918e+00,  3.92222404e-01,  1.29049397e+00,\n",
            "         1.70354080e+00,  1.18858777e-02,  2.46710110e+00,\n",
            "        -9.15768981e-01, -1.35687208e+00, -3.30822527e-01,\n",
            "        -4.02611107e-01, -1.54586792e+00, -1.87662259e-01,\n",
            "         2.05740285e+00,  3.85742821e-02,  1.43155217e+00,\n",
            "        -5.44786692e-01, -1.17511249e+00,  5.04817784e-01,\n",
            "        -9.63872135e-01, -1.67343602e-01, -1.80501759e+00,\n",
            "         8.10221255e-01, -4.52006638e-01,  1.18270469e+00,\n",
            "        -1.46774220e+00, -8.58082592e-01, -2.02811933e+00,\n",
            "         7.19560087e-01,  2.18535447e+00,  1.12710230e-01,\n",
            "        -4.76811081e-01,  6.99578822e-01,  4.60297287e-01,\n",
            "         7.84969568e-01, -3.15589929e+00,  6.18530452e-01,\n",
            "         1.34129620e+00, -1.29581904e+00,  2.25933123e+00]], dtype=float32), False)\n"
          ]
        }
      ],
      "source": [
        "val_loader, val_dataset = get_validation_loader(filename)\n",
        "\n",
        "#Check a single batch\n",
        "for batch_vectors, batch_labels in val_loader:\n",
        "    print(\"Batch Vectors Shape:\", batch_vectors.shape)\n",
        "    print(\"Batch Labels:\", batch_labels)\n",
        "    break\n",
        "\n",
        "print(val_dataset[0])  # Check the first sample and label"
      ]
    },
    {
      "cell_type": "markdown",
      "metadata": {
        "id": "ARwcBrbFlMu8"
      },
      "source": [
        "###*Task 2*\n",
        "\n",
        "Generate a table with 10 random samples from the dataset and show their corresponding labels."
      ]
    },
    {
      "cell_type": "code",
      "execution_count": 93,
      "metadata": {},
      "outputs": [
        {
          "name": "stdout",
          "output_type": "stream",
          "text": [
            "   Sample Index                                             Sample  Label\n",
            "0           653  [[-0.25355354, 0.374036, -0.31967133, 1.416075...  False\n",
            "1           217  [[1.4171106, 0.59021866, -0.01195909, 0.365434...  False\n",
            "2           974  [[2.0117917, 0.38000637, -0.20979905, -0.11392...  False\n",
            "3           519  [[1.0824207, 0.56207716, -3.0993059, -0.607007...  False\n",
            "4             3  [[1.2847438, -0.025869051, -0.71129435, 1.0452...   True\n",
            "5           406  [[-0.123753496, 1.6171626, -0.9375237, 0.42778...   True\n",
            "6           283  [[0.13342273, -0.10581284, -1.0935313, -0.7948...   True\n",
            "7           941  [[-0.2716333, 0.8326489, -0.11674489, -1.27786...  False\n",
            "8           564  [[-0.151199, -1.2359986, 0.25981015, -0.026536...   True\n",
            "9           866  [[2.2081115, -0.68636507, -2.8235893, -0.62246...  False\n"
          ]
        }
      ],
      "source": [
        "random_indices = random.sample(range(len(val_dataset)), 10)\n",
        "\n",
        "# Retrieve the samples and labels\n",
        "random_samples = [val_dataset[i] for i in random_indices]\n",
        "\n",
        "# Create a DataFrame for better visualization\n",
        "df_random_samples = pd.DataFrame({\n",
        "    'Sample Index': random_indices,\n",
        "    'Sample': [sample[0] for sample in random_samples],\n",
        "    'Label': [sample[1] for sample in random_samples]\n",
        "})\n",
        "\n",
        "# Display the table\n",
        "print(df_random_samples)"
      ]
    },
    {
      "cell_type": "markdown",
      "metadata": {
        "id": "da5YCWVkmUL2"
      },
      "source": [
        "###*Task 3*\n",
        "\n",
        "Inspect the dataset and answer the following questions:\n",
        "1. How many samples are in the dataset?\n",
        "2. How many positive examples (vulnerability-labeled instances) are in the dataset?\n",
        "3. What is the vulnerable/non-vulnerable ratio?"
      ]
    },
    {
      "cell_type": "code",
      "execution_count": 94,
      "metadata": {},
      "outputs": [
        {
          "name": "stdout",
          "output_type": "stream",
          "text": [
            "Number of samples in the dataset: 1000\n",
            "768\n"
          ]
        }
      ],
      "source": [
        "num_samples = len(val_dataset)\n",
        "print(f\"Number of samples in the dataset: {num_samples}\")\n",
        "print(len(val_dataset[0][0][0]))  # Check the first sample and label \n"
      ]
    },
    {
      "cell_type": "code",
      "execution_count": 95,
      "metadata": {},
      "outputs": [
        {
          "name": "stdout",
          "output_type": "stream",
          "text": [
            "Number of negative examples in the dataset: 717\n",
            "Number of positive examples in the dataset: 283\n",
            "Ratio of positive to negative examples: 0.39\n"
          ]
        }
      ],
      "source": [
        "num_positive_examples = sum(val_dataset.labels[:])\n",
        "num_negative_examples = num_samples - num_positive_examples\n",
        "ratio = num_positive_examples / num_negative_examples if num_negative_examples > 0 else float('inf')\n",
        "print(f\"Number of negative examples in the dataset: {num_negative_examples}\")\n",
        "print(f\"Number of positive examples in the dataset: {num_positive_examples}\")\n",
        "print(f\"Ratio of positive to negative examples: {ratio:.2f}\")"
      ]
    },
    {
      "cell_type": "code",
      "execution_count": 96,
      "metadata": {},
      "outputs": [
        {
          "data": {
            "text/plain": [
              "283"
            ]
          },
          "execution_count": 96,
          "metadata": {},
          "output_type": "execute_result"
        }
      ],
      "source": [
        "val_dataset.labels[:].sum()  # Check the first sample and label"
      ]
    },
    {
      "cell_type": "markdown",
      "metadata": {
        "id": "UivWlO3dnngr"
      },
      "source": [
        "###*Task 4*\n",
        "\n",
        "Load and run the following pre-trained neural network model called VulnPredictionModel. "
      ]
    },
    {
      "cell_type": "code",
      "execution_count": 98,
      "metadata": {
        "id": "3Jex8XdkFJhb"
      },
      "outputs": [
        {
          "name": "stdout",
          "output_type": "stream",
          "text": [
            "Using cpu device\n"
          ]
        }
      ],
      "source": [
        "\n",
        "device = \"cuda\" if torch.cuda.is_available() else \"cpu\"\n",
        "print(f\"Using {device} device\")"
      ]
    },
    {
      "cell_type": "code",
      "execution_count": 106,
      "metadata": {
        "id": "9RrGtLkpEzKu"
      },
      "outputs": [
        {
          "data": {
            "text/plain": [
              "VulnPredictModel(\n",
              "  (flatten): Flatten(start_dim=1, end_dim=-1)\n",
              "  (linear_stack): Sequential(\n",
              "    (0): Linear(in_features=768, out_features=64, bias=True)\n",
              "    (1): ReLU()\n",
              "    (2): Linear(in_features=64, out_features=64, bias=True)\n",
              "    (3): ReLU()\n",
              "    (4): Linear(in_features=64, out_features=1, bias=True)\n",
              "    (5): Sigmoid()\n",
              "  )\n",
              ")"
            ]
          },
          "execution_count": 106,
          "metadata": {},
          "output_type": "execute_result"
        }
      ],
      "source": [
        "from torch import nn\n",
        "\n",
        "class VulnPredictModel(nn.Module):\n",
        "    def __init__(self):\n",
        "        super().__init__()\n",
        "        self.flatten = nn.Flatten()\n",
        "        self.linear_stack = nn.Sequential(\n",
        "            nn.Linear(768, 64),\n",
        "            nn.ReLU(),\n",
        "            nn.Linear(64, 64),\n",
        "            nn.ReLU(),\n",
        "            nn.Linear(64, 1),\n",
        "            nn.Sigmoid()\n",
        "        )\n",
        "\n",
        "    def forward(self, x):\n",
        "        x = self.flatten(x)\n",
        "        return self.linear_stack(x)\n",
        "      \n",
        "\n",
        "# TODO: intialize and load the model\n",
        "model = VulnPredictModel()\n",
        "model.load_state_dict(torch.load(\"model_2023-03-28_20-03.pth\", map_location=torch.device('cpu')))\n",
        "model.eval()\n"
      ]
    },
    {
      "cell_type": "markdown",
      "metadata": {
        "id": "-A9M9ID0n2Gx"
      },
      "source": [
        "###*Task 5*\n",
        "\n",
        "Make a prediction on the provided dataset and compute the following values:\n",
        "- True Positives\n",
        "- True Negatives\n",
        "- False Positives\n",
        "- False Negatives"
      ]
    },
    {
      "cell_type": "code",
      "execution_count": 107,
      "metadata": {
        "id": "R8KdeQ2Rn-2Z"
      },
      "outputs": [
        {
          "name": "stdout",
          "output_type": "stream",
          "text": [
            "True Positives: 20\n",
            "True Negatives: 716\n",
            "False Positives: 1\n",
            "False Negatives: 263\n"
          ]
        }
      ],
      "source": [
        "# TODO: makethe prediction for all the samples in the validation set.\n",
        "\n",
        "def evaluate_model(model, dataloader, threshold=0.5):\n",
        "    model.eval()\n",
        "    TP = TN = FP = FN = 0\n",
        "\n",
        "    with torch.no_grad():\n",
        "        for inputs, labels in dataloader:\n",
        "            outputs = model(inputs).squeeze()\n",
        "            preds = (outputs >= threshold).int()\n",
        "            labels = labels.int()\n",
        "\n",
        "            TP += ((preds == 1) & (labels == 1)).sum().item()\n",
        "            TN += ((preds == 0) & (labels == 0)).sum().item()\n",
        "            FP += ((preds == 1) & (labels == 0)).sum().item()\n",
        "            FN += ((preds == 0) & (labels == 1)).sum().item()\n",
        "\n",
        "    return TP, TN, FP, FN\n",
        "\n",
        "val_loader, _ = get_validation_loader(filename)\n",
        "TP, TN, FP, FN = evaluate_model(model, val_loader)\n",
        "\n",
        "print(f\"True Positives: {TP}\")\n",
        "print(f\"True Negatives: {TN}\")\n",
        "print(f\"False Positives: {FP}\")\n",
        "print(f\"False Negatives: {FN}\")"
      ]
    },
    {
      "cell_type": "markdown",
      "metadata": {
        "id": "TaFHwiVwow7s"
      },
      "source": [
        "### *Task 6*\n",
        "\n",
        "Compute the corresponding performance metrics **manually** (do not use PyTorch's predefined metrics):\n",
        "- Accuracy\n",
        "- Precision\n",
        "- Recall\n",
        "- F1"
      ]
    },
    {
      "cell_type": "code",
      "execution_count": 108,
      "metadata": {
        "id": "KE2daH3LpGEc"
      },
      "outputs": [
        {
          "name": "stdout",
          "output_type": "stream",
          "text": [
            "Accuracy: 0.7360\n",
            "Precision: 0.9524\n",
            "Recall: 0.0707\n",
            "F1 Score: 0.1316\n"
          ]
        }
      ],
      "source": [
        "Accuracy  = (TP + TN) / (TP + TN + FP + FN)\n",
        "Precision = TP / (TP + FP)\n",
        "Recall    = TP / (TP + FN)\n",
        "F1_Score  = 2 * (Precision * Recall) / (Precision + Recall)\n",
        "\n",
        "print(f\"Accuracy: {Accuracy:.4f}\")\n",
        "print(f\"Precision: {Precision:.4f}\")\n",
        "print(f\"Recall: {Recall:.4f}\") \n",
        "print(f\"F1 Score: {F1_Score:.4f}\")"
      ]
    },
    {
      "cell_type": "markdown",
      "metadata": {
        "id": "kdIkKUPlpGjv"
      },
      "source": [
        "### *Task 7*\n",
        "\n",
        "Based on your performance metrics, answer the following questions:\n",
        "\n",
        "- Explain the impact of accuracy vs. F1 score.\n",
        "- In this particular problem, which metric one should focus more on?\n",
        "- Is there a better metric suitable for the use case of vulnerability prediction? Why?\n"
      ]
    }
  ],
  "metadata": {
    "colab": {
      "provenance": []
    },
    "kernelspec": {
      "display_name": ".venv",
      "language": "python",
      "name": "python3"
    },
    "language_info": {
      "codemirror_mode": {
        "name": "ipython",
        "version": 3
      },
      "file_extension": ".py",
      "mimetype": "text/x-python",
      "name": "python",
      "nbconvert_exporter": "python",
      "pygments_lexer": "ipython3",
      "version": "3.9.6"
    }
  },
  "nbformat": 4,
  "nbformat_minor": 0
}
